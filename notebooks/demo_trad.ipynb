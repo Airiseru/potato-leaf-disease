{
 "cells": [
  {
   "cell_type": "markdown",
   "id": "bf854fff",
   "metadata": {},
   "source": [
    "# Traditional Approach Demo Code\n",
    "\n",
    "This notebook will contain the code necessary to generate the predictions file using preprocessing techniques and model generated from the `develop_trad.ipynb` notebook.\n",
    "\n",
    "For this, a multiclass SVM is used with DINOv2 as the model used for feature extraction for image preprocessing"
   ]
  },
  {
   "cell_type": "markdown",
   "id": "fc91b269",
   "metadata": {},
   "source": [
    "## Miscellaneous"
   ]
  },
  {
   "cell_type": "code",
   "execution_count": 1,
   "id": "7eb79d32",
   "metadata": {},
   "outputs": [],
   "source": [
    "# %pip install tensorflow transformers torch torchvision torchaudio scikit-learn opencv-python numpy pickle5 tqdm -q\n",
    "\n",
    "# To hide warnings produced by different packages\n",
    "import warnings\n",
    "warnings.filterwarnings('ignore')"
   ]
  },
  {
   "cell_type": "markdown",
   "id": "e89f8eba",
   "metadata": {},
   "source": [
    "## Imports"
   ]
  },
  {
   "cell_type": "code",
   "execution_count": 2,
   "id": "099fc2f1",
   "metadata": {},
   "outputs": [],
   "source": [
    "import cv2\n",
    "import cv2.typing as cv_typing\n",
    "from pathlib import Path\n",
    "import os\n",
    "import numpy as np\n",
    "import tensorflow as tf\n",
    "\n",
    "from PIL import Image\n",
    "from tensorflow.keras.preprocessing import image\n",
    "from transformers import AutoImageProcessor, Dinov2Model\n",
    "import torch\n",
    "\n",
    "import pandas as pd\n",
    "import pickle\n",
    "from tqdm import tqdm\n",
    "import typing\n",
    "import csv"
   ]
  },
  {
   "cell_type": "markdown",
   "id": "e72db4e6",
   "metadata": {},
   "source": [
    "## Constants"
   ]
  },
  {
   "cell_type": "code",
   "execution_count": 3,
   "id": "43b084a2",
   "metadata": {},
   "outputs": [
    {
     "data": {
      "text/plain": [
       "<torch._C.Generator at 0x1d3efefe870>"
      ]
     },
     "execution_count": 3,
     "metadata": {},
     "output_type": "execute_result"
    }
   ],
   "source": [
    "device = torch.device(\"cuda\" if torch.cuda.is_available() else \"cpu\")\n",
    "\n",
    "classes = [\"Bacteria\", \"Fungi\", \"Healthy\", \"Pest\", \"Phytopthora\", \"Virus\"]\n",
    "\n",
    "# Path of where the train images are located\n",
    "# img_dir = \"/content/drive/MyDrive/BSCS/CS180/Project/potato_test\"\n",
    "img_dir = \"../data/potato_test\" # if local\n",
    "\n",
    "# Path for final model\n",
    "# model_dir = \"/content/drive/MyDrive/BSCS/CS180/Project/models\"\n",
    "model_dir = \"../models\" # if local\n",
    "\n",
    "# Other constants\n",
    "ORIG_IMG_SIZE = (1500,1500)\n",
    "BATCH_SIZE = 8\n",
    "seed_value = 42\n",
    "\n",
    "# Set seed\n",
    "tf.random.set_seed(seed_value)\n",
    "np.random.seed(seed_value)\n",
    "torch.manual_seed(seed_value)"
   ]
  },
  {
   "cell_type": "code",
   "execution_count": 4,
   "id": "9dab0f39",
   "metadata": {},
   "outputs": [
    {
     "name": "stderr",
     "output_type": "stream",
     "text": [
      "`use_fast` is set to `True` but the image processor class does not have a fast version.  Falling back to the slow version.\n"
     ]
    },
    {
     "data": {
      "text/plain": [
       "Dinov2Model(\n",
       "  (embeddings): Dinov2Embeddings(\n",
       "    (patch_embeddings): Dinov2PatchEmbeddings(\n",
       "      (projection): Conv2d(3, 1024, kernel_size=(14, 14), stride=(14, 14))\n",
       "    )\n",
       "    (dropout): Dropout(p=0.0, inplace=False)\n",
       "  )\n",
       "  (encoder): Dinov2Encoder(\n",
       "    (layer): ModuleList(\n",
       "      (0-23): 24 x Dinov2Layer(\n",
       "        (norm1): LayerNorm((1024,), eps=1e-06, elementwise_affine=True)\n",
       "        (attention): Dinov2Attention(\n",
       "          (attention): Dinov2SelfAttention(\n",
       "            (query): Linear(in_features=1024, out_features=1024, bias=True)\n",
       "            (key): Linear(in_features=1024, out_features=1024, bias=True)\n",
       "            (value): Linear(in_features=1024, out_features=1024, bias=True)\n",
       "          )\n",
       "          (output): Dinov2SelfOutput(\n",
       "            (dense): Linear(in_features=1024, out_features=1024, bias=True)\n",
       "            (dropout): Dropout(p=0.0, inplace=False)\n",
       "          )\n",
       "        )\n",
       "        (layer_scale1): Dinov2LayerScale()\n",
       "        (drop_path): Identity()\n",
       "        (norm2): LayerNorm((1024,), eps=1e-06, elementwise_affine=True)\n",
       "        (mlp): Dinov2MLP(\n",
       "          (fc1): Linear(in_features=1024, out_features=4096, bias=True)\n",
       "          (activation): GELUActivation()\n",
       "          (fc2): Linear(in_features=4096, out_features=1024, bias=True)\n",
       "        )\n",
       "        (layer_scale2): Dinov2LayerScale()\n",
       "      )\n",
       "    )\n",
       "  )\n",
       "  (layernorm): LayerNorm((1024,), eps=1e-06, elementwise_affine=True)\n",
       ")"
      ]
     },
     "execution_count": 4,
     "metadata": {},
     "output_type": "execute_result"
    }
   ],
   "source": [
    "# Dinov2 processor and model\n",
    "processor = AutoImageProcessor.from_pretrained(\"facebook/dinov2-large\", use_fast=True)\n",
    "dino_model = Dinov2Model.from_pretrained(\"facebook/dinov2-large\").to(device)\n",
    "dino_model.eval()"
   ]
  },
  {
   "cell_type": "code",
   "execution_count": 5,
   "id": "aa83af65",
   "metadata": {},
   "outputs": [],
   "source": [
    "# Load the model\n",
    "with open(Path(f\"{model_dir}/svm_model_final.pkl\"), 'rb') as file:\n",
    "    loaded_model = pickle.load(file)"
   ]
  },
  {
   "cell_type": "markdown",
   "id": "db9be6e4",
   "metadata": {},
   "source": [
    "## Functions"
   ]
  },
  {
   "cell_type": "markdown",
   "id": "904fd91b",
   "metadata": {},
   "source": [
    "### Loading Data\n",
    "\n",
    "`load_images` takes the directory where the test images are located and loads them into a program as a list. Also returns the the filenames of the images"
   ]
  },
  {
   "cell_type": "code",
   "execution_count": null,
   "id": "1460c1d8",
   "metadata": {},
   "outputs": [],
   "source": [
    "def load_images(\n",
    "    file_path: str = \"./potato_test\",\n",
    "    resize_dim: tuple[int, int] = (518, 518),\n",
    ") -> tuple[list[cv_typing.MatLike], list[str]]:\n",
    "    # Get folder\n",
    "    dir = Path(file_path)\n",
    "\n",
    "    # Check if directory\n",
    "    if not dir.is_dir():\n",
    "        raise Exception(\"Please enter a valid directory\")\n",
    "\n",
    "    # Get all images in the dir\n",
    "    imgs = [os.path.join(dir, f) for f in os.listdir(dir) if os.path.isfile(os.path.join(dir, f))]\n",
    "\n",
    "    # Variable for final array\n",
    "    final_imgs: list[cv_typing.MatLike] = []\n",
    "    final_filenames: list[str] = []\n",
    "\n",
    "    try:\n",
    "        for img_path in imgs:\n",
    "            img_loaded: Image.Image = image.load_img(img_path, target_size=ORIG_IMG_SIZE)\n",
    "            img_array: np.ndarray[typing.Any, typing.Any] = image.img_to_array(img_loaded)\n",
    "            img_array = cv2.resize(img_array, resize_dim)\n",
    "            final_imgs.append(img_array)\n",
    "\n",
    "            # Get filename\n",
    "            filename = img_path.split(\"\\\\\")[-1]\n",
    "            # filename = Path(img_path).name\n",
    "\n",
    "            final_filenames.append(filename)\n",
    "    except Exception as e:\n",
    "        print(f\"Failed to load images: {e}\")\n",
    "    \n",
    "    return final_imgs, final_filenames"
   ]
  },
  {
   "cell_type": "markdown",
   "id": "3a10643c",
   "metadata": {},
   "source": [
    "### Preprocessing through Feature Extraction\n",
    "\n",
    "The `preprocess_img` takes a list of images and preprocesses them using DINOv2 by taking the features of the image."
   ]
  },
  {
   "cell_type": "code",
   "execution_count": 7,
   "id": "eb1ac5b7",
   "metadata": {},
   "outputs": [],
   "source": [
    "def preprocess_img(\n",
    "    imgs: list[np.ndarray[typing.Any, typing.Any]] = [],   \n",
    ") -> np.ndarray[typing.Any, typing.Any]:\n",
    "    all_features = []\n",
    "\n",
    "    # Split into batches\n",
    "    for i in tqdm(range(0, len(imgs), BATCH_SIZE)):\n",
    "        batch = imgs[i:i+BATCH_SIZE]\n",
    "\n",
    "        # Limit pixel values and convert each image to PIL\n",
    "        batch = [Image.fromarray(np.clip(img, 0, 255).astype(np.uint8)) for img in batch]\n",
    "\n",
    "        # Preprocess and move to GPU\n",
    "        print(f\"\\tProcesing batch {i}\")\n",
    "        inputs = processor(images=batch, return_tensors=\"pt\").to(device)\n",
    "        print(\"\\tFinished processing the batch\")\n",
    "\n",
    "        # Forward pass\n",
    "        with torch.no_grad():\n",
    "            outputs = dino_model(**inputs)\n",
    "            features = outputs.pooler_output\n",
    "            print(\"\\tFeatures taken using  DINOv2\")\n",
    "\n",
    "        all_features.append(features.cpu().numpy())\n",
    "        print(\"\\tCompleted all batches for  DINOv2\\n\")\n",
    "\n",
    "    # Combine all batches into one\n",
    "    return np.vstack(all_features)"
   ]
  },
  {
   "cell_type": "markdown",
   "id": "7577d95e",
   "metadata": {},
   "source": [
    "### Get Class Labels\n",
    "\n",
    "`get_labels` simply converts the numerical labeling produced by the model into the actual class label names (e.g. \"Healthy\" instead of 2)"
   ]
  },
  {
   "cell_type": "code",
   "execution_count": 8,
   "id": "b9a22222",
   "metadata": {},
   "outputs": [],
   "source": [
    "def get_labels(\n",
    "    y: np.ndarray[typing.Any, typing.Any],\n",
    "    classes: list[str] = [\"Bacteria\", \"Fungi\", \"Healthy\", \"Pest\", \"Phytopthora\", \"Virus\"],\n",
    ") -> np.ndarray[typing.Any, typing.Any]:\n",
    "    fxn = lambda x: classes[x]\n",
    "    applyall = np.vectorize(fxn)\n",
    "    return applyall(y)"
   ]
  },
  {
   "cell_type": "markdown",
   "id": "e34f68c8",
   "metadata": {},
   "source": [
    "## Running"
   ]
  },
  {
   "cell_type": "code",
   "execution_count": null,
   "id": "b4b01d1c",
   "metadata": {},
   "outputs": [
    {
     "name": "stderr",
     "output_type": "stream",
     "text": [
      "  0%|          | 0/38 [00:00<?, ?it/s]"
     ]
    },
    {
     "name": "stdout",
     "output_type": "stream",
     "text": [
      "\tProcesing batch 0\n",
      "\tFinished processing the batch\n",
      "\tFeatures taken using  DINOv2\n"
     ]
    },
    {
     "name": "stderr",
     "output_type": "stream",
     "text": [
      "  3%|▎         | 1/38 [00:00<00:32,  1.13it/s]"
     ]
    },
    {
     "name": "stdout",
     "output_type": "stream",
     "text": [
      "\tCompleted all batches for  DINOv2\n",
      "\n",
      "\tProcesing batch 8\n",
      "\tFinished processing the batch\n",
      "\tFeatures taken using  DINOv2\n"
     ]
    },
    {
     "name": "stderr",
     "output_type": "stream",
     "text": [
      "  5%|▌         | 2/38 [00:01<00:18,  1.94it/s]"
     ]
    },
    {
     "name": "stdout",
     "output_type": "stream",
     "text": [
      "\tCompleted all batches for  DINOv2\n",
      "\n",
      "\tProcesing batch 16\n",
      "\tFinished processing the batch\n",
      "\tFeatures taken using  DINOv2\n"
     ]
    },
    {
     "name": "stderr",
     "output_type": "stream",
     "text": [
      "  8%|▊         | 3/38 [00:01<00:13,  2.56it/s]"
     ]
    },
    {
     "name": "stdout",
     "output_type": "stream",
     "text": [
      "\tCompleted all batches for  DINOv2\n",
      "\n",
      "\tProcesing batch 24\n",
      "\tFinished processing the batch\n",
      "\tFeatures taken using  DINOv2\n"
     ]
    },
    {
     "name": "stderr",
     "output_type": "stream",
     "text": [
      " 11%|█         | 4/38 [00:01<00:12,  2.78it/s]"
     ]
    },
    {
     "name": "stdout",
     "output_type": "stream",
     "text": [
      "\tCompleted all batches for  DINOv2\n",
      "\n",
      "\tProcesing batch 32\n",
      "\tFinished processing the batch\n",
      "\tFeatures taken using  DINOv2\n"
     ]
    },
    {
     "name": "stderr",
     "output_type": "stream",
     "text": [
      " 13%|█▎        | 5/38 [00:01<00:10,  3.16it/s]"
     ]
    },
    {
     "name": "stdout",
     "output_type": "stream",
     "text": [
      "\tCompleted all batches for  DINOv2\n",
      "\n",
      "\tProcesing batch 40\n",
      "\tFinished processing the batch\n",
      "\tFeatures taken using  DINOv2\n"
     ]
    },
    {
     "name": "stderr",
     "output_type": "stream",
     "text": [
      " 16%|█▌        | 6/38 [00:02<00:09,  3.36it/s]"
     ]
    },
    {
     "name": "stdout",
     "output_type": "stream",
     "text": [
      "\tCompleted all batches for  DINOv2\n",
      "\n",
      "\tProcesing batch 48\n",
      "\tFinished processing the batch\n",
      "\tFeatures taken using  DINOv2\n"
     ]
    },
    {
     "name": "stderr",
     "output_type": "stream",
     "text": [
      " 18%|█▊        | 7/38 [00:02<00:08,  3.54it/s]"
     ]
    },
    {
     "name": "stdout",
     "output_type": "stream",
     "text": [
      "\tCompleted all batches for  DINOv2\n",
      "\n",
      "\tProcesing batch 56\n",
      "\tFinished processing the batch\n",
      "\tFeatures taken using  DINOv2\n"
     ]
    },
    {
     "name": "stderr",
     "output_type": "stream",
     "text": [
      " 21%|██        | 8/38 [00:02<00:08,  3.63it/s]"
     ]
    },
    {
     "name": "stdout",
     "output_type": "stream",
     "text": [
      "\tCompleted all batches for  DINOv2\n",
      "\n",
      "\tProcesing batch 64\n",
      "\tFinished processing the batch\n",
      "\tFeatures taken using  DINOv2\n"
     ]
    },
    {
     "name": "stderr",
     "output_type": "stream",
     "text": [
      " 24%|██▎       | 9/38 [00:02<00:07,  3.73it/s]"
     ]
    },
    {
     "name": "stdout",
     "output_type": "stream",
     "text": [
      "\tCompleted all batches for  DINOv2\n",
      "\n",
      "\tProcesing batch 72\n",
      "\tFinished processing the batch\n",
      "\tFeatures taken using  DINOv2\n"
     ]
    },
    {
     "name": "stderr",
     "output_type": "stream",
     "text": [
      " 26%|██▋       | 10/38 [00:03<00:07,  3.84it/s]"
     ]
    },
    {
     "name": "stdout",
     "output_type": "stream",
     "text": [
      "\tCompleted all batches for  DINOv2\n",
      "\n",
      "\tProcesing batch 80\n",
      "\tFinished processing the batch\n",
      "\tFeatures taken using  DINOv2\n"
     ]
    },
    {
     "name": "stderr",
     "output_type": "stream",
     "text": [
      " 29%|██▉       | 11/38 [00:03<00:07,  3.72it/s]"
     ]
    },
    {
     "name": "stdout",
     "output_type": "stream",
     "text": [
      "\tCompleted all batches for  DINOv2\n",
      "\n",
      "\tProcesing batch 88\n",
      "\tFinished processing the batch\n",
      "\tFeatures taken using  DINOv2\n"
     ]
    },
    {
     "name": "stderr",
     "output_type": "stream",
     "text": [
      " 32%|███▏      | 12/38 [00:03<00:06,  3.85it/s]"
     ]
    },
    {
     "name": "stdout",
     "output_type": "stream",
     "text": [
      "\tCompleted all batches for  DINOv2\n",
      "\n",
      "\tProcesing batch 96\n",
      "\tFinished processing the batch\n",
      "\tFeatures taken using  DINOv2\n"
     ]
    },
    {
     "name": "stderr",
     "output_type": "stream",
     "text": [
      " 34%|███▍      | 13/38 [00:03<00:06,  3.86it/s]"
     ]
    },
    {
     "name": "stdout",
     "output_type": "stream",
     "text": [
      "\tCompleted all batches for  DINOv2\n",
      "\n",
      "\tProcesing batch 104\n",
      "\tFinished processing the batch\n",
      "\tFeatures taken using  DINOv2\n"
     ]
    },
    {
     "name": "stderr",
     "output_type": "stream",
     "text": [
      " 37%|███▋      | 14/38 [00:04<00:06,  3.94it/s]"
     ]
    },
    {
     "name": "stdout",
     "output_type": "stream",
     "text": [
      "\tCompleted all batches for  DINOv2\n",
      "\n",
      "\tProcesing batch 112\n",
      "\tFinished processing the batch\n",
      "\tFeatures taken using  DINOv2\n"
     ]
    },
    {
     "name": "stderr",
     "output_type": "stream",
     "text": [
      " 39%|███▉      | 15/38 [00:04<00:05,  3.92it/s]"
     ]
    },
    {
     "name": "stdout",
     "output_type": "stream",
     "text": [
      "\tCompleted all batches for  DINOv2\n",
      "\n",
      "\tProcesing batch 120\n",
      "\tFinished processing the batch\n",
      "\tFeatures taken using  DINOv2\n"
     ]
    },
    {
     "name": "stderr",
     "output_type": "stream",
     "text": [
      " 42%|████▏     | 16/38 [00:04<00:05,  3.91it/s]"
     ]
    },
    {
     "name": "stdout",
     "output_type": "stream",
     "text": [
      "\tCompleted all batches for  DINOv2\n",
      "\n",
      "\tProcesing batch 128\n",
      "\tFinished processing the batch\n",
      "\tFeatures taken using  DINOv2\n"
     ]
    },
    {
     "name": "stderr",
     "output_type": "stream",
     "text": [
      " 45%|████▍     | 17/38 [00:04<00:05,  3.96it/s]"
     ]
    },
    {
     "name": "stdout",
     "output_type": "stream",
     "text": [
      "\tCompleted all batches for  DINOv2\n",
      "\n",
      "\tProcesing batch 136\n",
      "\tFinished processing the batch\n",
      "\tFeatures taken using  DINOv2\n"
     ]
    },
    {
     "name": "stderr",
     "output_type": "stream",
     "text": [
      " 47%|████▋     | 18/38 [00:05<00:05,  3.96it/s]"
     ]
    },
    {
     "name": "stdout",
     "output_type": "stream",
     "text": [
      "\tCompleted all batches for  DINOv2\n",
      "\n",
      "\tProcesing batch 144\n",
      "\tFinished processing the batch\n",
      "\tFeatures taken using  DINOv2\n"
     ]
    },
    {
     "name": "stderr",
     "output_type": "stream",
     "text": [
      " 50%|█████     | 19/38 [00:05<00:04,  3.88it/s]"
     ]
    },
    {
     "name": "stdout",
     "output_type": "stream",
     "text": [
      "\tCompleted all batches for  DINOv2\n",
      "\n",
      "\tProcesing batch 152\n",
      "\tFinished processing the batch\n",
      "\tFeatures taken using  DINOv2\n"
     ]
    },
    {
     "name": "stderr",
     "output_type": "stream",
     "text": [
      " 53%|█████▎    | 20/38 [00:05<00:04,  3.95it/s]"
     ]
    },
    {
     "name": "stdout",
     "output_type": "stream",
     "text": [
      "\tCompleted all batches for  DINOv2\n",
      "\n",
      "\tProcesing batch 160\n",
      "\tFinished processing the batch\n",
      "\tFeatures taken using  DINOv2\n"
     ]
    },
    {
     "name": "stderr",
     "output_type": "stream",
     "text": [
      " 55%|█████▌    | 21/38 [00:06<00:04,  3.85it/s]"
     ]
    },
    {
     "name": "stdout",
     "output_type": "stream",
     "text": [
      "\tCompleted all batches for  DINOv2\n",
      "\n",
      "\tProcesing batch 168\n",
      "\tFinished processing the batch\n",
      "\tFeatures taken using  DINOv2\n"
     ]
    },
    {
     "name": "stderr",
     "output_type": "stream",
     "text": [
      " 58%|█████▊    | 22/38 [00:06<00:04,  3.84it/s]"
     ]
    },
    {
     "name": "stdout",
     "output_type": "stream",
     "text": [
      "\tCompleted all batches for  DINOv2\n",
      "\n",
      "\tProcesing batch 176\n",
      "\tFinished processing the batch\n",
      "\tFeatures taken using  DINOv2\n"
     ]
    },
    {
     "name": "stderr",
     "output_type": "stream",
     "text": [
      " 61%|██████    | 23/38 [00:06<00:03,  3.93it/s]"
     ]
    },
    {
     "name": "stdout",
     "output_type": "stream",
     "text": [
      "\tCompleted all batches for  DINOv2\n",
      "\n",
      "\tProcesing batch 184\n",
      "\tFinished processing the batch\n",
      "\tFeatures taken using  DINOv2\n"
     ]
    },
    {
     "name": "stderr",
     "output_type": "stream",
     "text": [
      " 63%|██████▎   | 24/38 [00:06<00:03,  3.83it/s]"
     ]
    },
    {
     "name": "stdout",
     "output_type": "stream",
     "text": [
      "\tCompleted all batches for  DINOv2\n",
      "\n",
      "\tProcesing batch 192\n",
      "\tFinished processing the batch\n",
      "\tFeatures taken using  DINOv2\n"
     ]
    },
    {
     "name": "stderr",
     "output_type": "stream",
     "text": [
      " 66%|██████▌   | 25/38 [00:07<00:03,  3.90it/s]"
     ]
    },
    {
     "name": "stdout",
     "output_type": "stream",
     "text": [
      "\tCompleted all batches for  DINOv2\n",
      "\n",
      "\tProcesing batch 200\n",
      "\tFinished processing the batch\n",
      "\tFeatures taken using  DINOv2\n"
     ]
    },
    {
     "name": "stderr",
     "output_type": "stream",
     "text": [
      " 68%|██████▊   | 26/38 [00:07<00:03,  3.97it/s]"
     ]
    },
    {
     "name": "stdout",
     "output_type": "stream",
     "text": [
      "\tCompleted all batches for  DINOv2\n",
      "\n",
      "\tProcesing batch 208\n",
      "\tFinished processing the batch\n",
      "\tFeatures taken using  DINOv2\n"
     ]
    },
    {
     "name": "stderr",
     "output_type": "stream",
     "text": [
      " 71%|███████   | 27/38 [00:07<00:02,  3.86it/s]"
     ]
    },
    {
     "name": "stdout",
     "output_type": "stream",
     "text": [
      "\tCompleted all batches for  DINOv2\n",
      "\n",
      "\tProcesing batch 216\n",
      "\tFinished processing the batch\n",
      "\tFeatures taken using  DINOv2\n"
     ]
    },
    {
     "name": "stderr",
     "output_type": "stream",
     "text": [
      " 74%|███████▎  | 28/38 [00:07<00:02,  3.93it/s]"
     ]
    },
    {
     "name": "stdout",
     "output_type": "stream",
     "text": [
      "\tCompleted all batches for  DINOv2\n",
      "\n",
      "\tProcesing batch 224\n",
      "\tFinished processing the batch\n",
      "\tFeatures taken using  DINOv2\n"
     ]
    },
    {
     "name": "stderr",
     "output_type": "stream",
     "text": [
      " 76%|███████▋  | 29/38 [00:08<00:02,  3.87it/s]"
     ]
    },
    {
     "name": "stdout",
     "output_type": "stream",
     "text": [
      "\tCompleted all batches for  DINOv2\n",
      "\n",
      "\tProcesing batch 232\n",
      "\tFinished processing the batch\n",
      "\tFeatures taken using  DINOv2\n"
     ]
    },
    {
     "name": "stderr",
     "output_type": "stream",
     "text": [
      " 79%|███████▉  | 30/38 [00:08<00:02,  3.90it/s]"
     ]
    },
    {
     "name": "stdout",
     "output_type": "stream",
     "text": [
      "\tCompleted all batches for  DINOv2\n",
      "\n",
      "\tProcesing batch 240\n",
      "\tFinished processing the batch\n",
      "\tFeatures taken using  DINOv2\n"
     ]
    },
    {
     "name": "stderr",
     "output_type": "stream",
     "text": [
      " 82%|████████▏ | 31/38 [00:08<00:01,  3.92it/s]"
     ]
    },
    {
     "name": "stdout",
     "output_type": "stream",
     "text": [
      "\tCompleted all batches for  DINOv2\n",
      "\n",
      "\tProcesing batch 248\n",
      "\tFinished processing the batch\n",
      "\tFeatures taken using  DINOv2\n"
     ]
    },
    {
     "name": "stderr",
     "output_type": "stream",
     "text": [
      " 84%|████████▍ | 32/38 [00:08<00:01,  3.87it/s]"
     ]
    },
    {
     "name": "stdout",
     "output_type": "stream",
     "text": [
      "\tCompleted all batches for  DINOv2\n",
      "\n",
      "\tProcesing batch 256\n",
      "\tFinished processing the batch\n",
      "\tFeatures taken using  DINOv2\n"
     ]
    },
    {
     "name": "stderr",
     "output_type": "stream",
     "text": [
      " 87%|████████▋ | 33/38 [00:09<00:01,  3.94it/s]"
     ]
    },
    {
     "name": "stdout",
     "output_type": "stream",
     "text": [
      "\tCompleted all batches for  DINOv2\n",
      "\n",
      "\tProcesing batch 264\n",
      "\tFinished processing the batch\n",
      "\tFeatures taken using  DINOv2\n"
     ]
    },
    {
     "name": "stderr",
     "output_type": "stream",
     "text": [
      " 89%|████████▉ | 34/38 [00:09<00:01,  3.95it/s]"
     ]
    },
    {
     "name": "stdout",
     "output_type": "stream",
     "text": [
      "\tCompleted all batches for  DINOv2\n",
      "\n",
      "\tProcesing batch 272\n",
      "\tFinished processing the batch\n",
      "\tFeatures taken using  DINOv2\n"
     ]
    },
    {
     "name": "stderr",
     "output_type": "stream",
     "text": [
      " 92%|█████████▏| 35/38 [00:09<00:00,  3.91it/s]"
     ]
    },
    {
     "name": "stdout",
     "output_type": "stream",
     "text": [
      "\tCompleted all batches for  DINOv2\n",
      "\n",
      "\tProcesing batch 280\n",
      "\tFinished processing the batch\n",
      "\tFeatures taken using  DINOv2\n"
     ]
    },
    {
     "name": "stderr",
     "output_type": "stream",
     "text": [
      " 95%|█████████▍| 36/38 [00:09<00:00,  3.94it/s]"
     ]
    },
    {
     "name": "stdout",
     "output_type": "stream",
     "text": [
      "\tCompleted all batches for  DINOv2\n",
      "\n",
      "\tProcesing batch 288\n",
      "\tFinished processing the batch\n",
      "\tFeatures taken using  DINOv2\n"
     ]
    },
    {
     "name": "stderr",
     "output_type": "stream",
     "text": [
      "100%|██████████| 38/38 [00:10<00:00,  3.69it/s]"
     ]
    },
    {
     "name": "stdout",
     "output_type": "stream",
     "text": [
      "\tCompleted all batches for  DINOv2\n",
      "\n",
      "\tProcesing batch 296\n",
      "\tFinished processing the batch\n",
      "\tFeatures taken using  DINOv2\n",
      "\tCompleted all batches for  DINOv2\n",
      "\n"
     ]
    },
    {
     "name": "stderr",
     "output_type": "stream",
     "text": [
      "\n"
     ]
    }
   ],
   "source": [
    "# Load the images to predict\n",
    "imgs_to_pred, filenames = load_images(img_dir)\n",
    "\n",
    "# Preprocess images using DINOv2\n",
    "processed_img = preprocess_img(imgs_to_pred)\n",
    "\n",
    "# Make predictions\n",
    "preds = loaded_model.predict(processed_img)\n",
    "\n",
    "# Turn into actual labels\n",
    "final_labels = get_labels(preds)\n",
    "\n",
    "# Save as csv file\n",
    "with open('../predictions/group8_svm_predictions.csv', 'w', newline='') as file:\n",
    "    writer = csv.writer(file)\n",
    "    writer.writerow([\"image_filename\", \"predicted_label\"])\n",
    "    writer.writerows(zip(filenames, final_labels))"
   ]
  },
  {
   "cell_type": "markdown",
   "id": "ae1b85ff",
   "metadata": {},
   "source": [
    "## Checking"
   ]
  },
  {
   "cell_type": "code",
   "execution_count": 10,
   "id": "a22182b2",
   "metadata": {},
   "outputs": [
    {
     "name": "stdout",
     "output_type": "stream",
     "text": [
      "301 301\n"
     ]
    }
   ],
   "source": [
    "print(len(filenames), len(final_labels))"
   ]
  },
  {
   "cell_type": "code",
   "execution_count": null,
   "id": "04cfd7ff",
   "metadata": {},
   "outputs": [
    {
     "data": {
      "application/vnd.microsoft.datawrangler.viewer.v0+json": {
       "columns": [
        {
         "name": "index",
         "rawType": "int64",
         "type": "integer"
        },
        {
         "name": "image_filename",
         "rawType": "object",
         "type": "string"
        },
        {
         "name": "predicted_label",
         "rawType": "object",
         "type": "string"
        }
       ],
       "ref": "dd73b0cb-17c8-442c-8e7b-84bb038afad0",
       "rows": [
        [
         "0",
         "0.jpeg",
         "Virus"
        ],
        [
         "1",
         "1.jpeg",
         "Healthy"
        ],
        [
         "2",
         "10.jpeg",
         "Healthy"
        ],
        [
         "3",
         "100.jpeg",
         "Fungi"
        ],
        [
         "4",
         "101.jpeg",
         "Fungi"
        ]
       ],
       "shape": {
        "columns": 2,
        "rows": 5
       }
      },
      "text/html": [
       "<div>\n",
       "<style scoped>\n",
       "    .dataframe tbody tr th:only-of-type {\n",
       "        vertical-align: middle;\n",
       "    }\n",
       "\n",
       "    .dataframe tbody tr th {\n",
       "        vertical-align: top;\n",
       "    }\n",
       "\n",
       "    .dataframe thead th {\n",
       "        text-align: right;\n",
       "    }\n",
       "</style>\n",
       "<table border=\"1\" class=\"dataframe\">\n",
       "  <thead>\n",
       "    <tr style=\"text-align: right;\">\n",
       "      <th></th>\n",
       "      <th>image_filename</th>\n",
       "      <th>predicted_label</th>\n",
       "    </tr>\n",
       "  </thead>\n",
       "  <tbody>\n",
       "    <tr>\n",
       "      <th>0</th>\n",
       "      <td>0.jpeg</td>\n",
       "      <td>Virus</td>\n",
       "    </tr>\n",
       "    <tr>\n",
       "      <th>1</th>\n",
       "      <td>1.jpeg</td>\n",
       "      <td>Healthy</td>\n",
       "    </tr>\n",
       "    <tr>\n",
       "      <th>2</th>\n",
       "      <td>10.jpeg</td>\n",
       "      <td>Healthy</td>\n",
       "    </tr>\n",
       "    <tr>\n",
       "      <th>3</th>\n",
       "      <td>100.jpeg</td>\n",
       "      <td>Fungi</td>\n",
       "    </tr>\n",
       "    <tr>\n",
       "      <th>4</th>\n",
       "      <td>101.jpeg</td>\n",
       "      <td>Fungi</td>\n",
       "    </tr>\n",
       "  </tbody>\n",
       "</table>\n",
       "</div>"
      ],
      "text/plain": [
       "  image_filename predicted_label\n",
       "0         0.jpeg           Virus\n",
       "1         1.jpeg         Healthy\n",
       "2        10.jpeg         Healthy\n",
       "3       100.jpeg           Fungi\n",
       "4       101.jpeg           Fungi"
      ]
     },
     "metadata": {},
     "output_type": "display_data"
    },
    {
     "data": {
      "text/plain": [
       "(301, 2)"
      ]
     },
     "metadata": {},
     "output_type": "display_data"
    },
    {
     "data": {
      "application/vnd.microsoft.datawrangler.viewer.v0+json": {
       "columns": [
        {
         "name": "predicted_label",
         "rawType": "object",
         "type": "string"
        },
        {
         "name": "count",
         "rawType": "int64",
         "type": "integer"
        }
       ],
       "ref": "20079291-40d3-49c8-858f-4eac80442898",
       "rows": [
        [
         "Fungi",
         "76"
        ],
        [
         "Pest",
         "66"
        ],
        [
         "Bacteria",
         "57"
        ],
        [
         "Virus",
         "57"
        ],
        [
         "Phytopthora",
         "28"
        ],
        [
         "Healthy",
         "17"
        ]
       ],
       "shape": {
        "columns": 1,
        "rows": 6
       }
      },
      "text/plain": [
       "predicted_label\n",
       "Fungi          76\n",
       "Pest           66\n",
       "Bacteria       57\n",
       "Virus          57\n",
       "Phytopthora    28\n",
       "Healthy        17\n",
       "Name: count, dtype: int64"
      ]
     },
     "metadata": {},
     "output_type": "display_data"
    }
   ],
   "source": [
    "df = pd.read_csv(\"../predictions/group8_svm_predictions.csv\")\n",
    "\n",
    "display(df.head(), df.shape)\n",
    "display(df['predicted_label'].value_counts())"
   ]
  },
  {
   "cell_type": "code",
   "execution_count": null,
   "id": "acd022db",
   "metadata": {},
   "outputs": [],
   "source": []
  }
 ],
 "metadata": {
  "kernelspec": {
   "display_name": "cs180-proj",
   "language": "python",
   "name": "python3"
  },
  "language_info": {
   "codemirror_mode": {
    "name": "ipython",
    "version": 3
   },
   "file_extension": ".py",
   "mimetype": "text/x-python",
   "name": "python",
   "nbconvert_exporter": "python",
   "pygments_lexer": "ipython3",
   "version": "3.12.9"
  }
 },
 "nbformat": 4,
 "nbformat_minor": 5
}
